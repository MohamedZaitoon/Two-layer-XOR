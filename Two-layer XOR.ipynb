{
 "cells": [
  {
   "cell_type": "markdown",
   "metadata": {},
   "source": [
    "# Two-layer XOR \n"
   ]
  },
  {
   "cell_type": "markdown",
   "metadata": {},
   "source": [
    "## Problem statement:\n",
    "\n",
    "Using Backpropagation algorithm to train a two layer **XOR** problem.\n",
    "Let us define a one hidden layer network with two input units, N hidden layer\n",
    "units and one output unit, with training set of D data samples, using the following\n",
    "notation:\n",
    "\n",
    "\n",
    "1. The input vector for two units as $x^{d} = (x^{d}_{1}, x^{d}_{2})$ or $x^{d}_{i}$; i = 1, 2, d = 1, .. . , D. (For the XOR problem introduced below, 4 data points exist in the dataset $x_{1}= (1, 0), x_{2}= (1, 1), x_{3} = (0, 1), x_{4} = (0, 0).)$\n",
    "     \n",
    "     \n",
    "2. the hidden layer with N units as $h_{j}$; j = 1, . . . N. Each of these units (orneurons) is connected to all the units of the previous layer with a weight $w^{1}_{ji}$. Here j refers to the unit index of the hidden layer and the i refers to the unit index of the previous layer.\n",
    "\n",
    "\n",
    "3. the non-linear function ReLu(t) = max(0, t).\n",
    "\n",
    "\n"
   ]
  },
  {
   "cell_type": "markdown",
   "metadata": {},
   "source": [
    "## Solution"
   ]
  },
  {
   "cell_type": "code",
   "execution_count": 1,
   "metadata": {},
   "outputs": [],
   "source": [
    "import numpy as np\n",
    "from numpy import linalg as LA\n",
    "import matplotlib.pyplot as plt\n",
    "\n",
    "%matplotlib inline"
   ]
  },
  {
   "cell_type": "markdown",
   "metadata": {},
   "source": [
    "### Forward Calculations:\n",
    "The output is then computed as follows:\n",
    "\n",
    "$$y(x^d, w^1, w^2, b^2, b^3) = ReLu( \\sum_{j=1}^{N} [w^{2}_{j} Relu( b^{2}_{j} + \\sum_{i= 1}^{2} w^{1}_{ji} x^{d}_{i}) + b_{3}])$$"
   ]
  },
  {
   "cell_type": "code",
   "execution_count": 2,
   "metadata": {},
   "outputs": [],
   "source": [
    "\n",
    "def Relu(z):\n",
    "    temp = z > 0;\n",
    "    return z * temp\n",
    "\n",
    "def forward_pass(x, W1, W2, b2,b3):\n",
    "   \n",
    "    '''\n",
    "        x  -> 1x2\n",
    "        w1 -> Nx2\n",
    "        w2 -> 1xN\n",
    "        b2 -> Nx1\n",
    "    '''\n",
    "    z1 = W1 @ x.T        # Nx1   \n",
    "    a1 = Relu(z1 + b2)   #Nx1\n",
    "    z2 = W2 @ a1         #1x1\n",
    "    y = Relu(z2 + b3)\n",
    "   \n",
    "    return a1, y"
   ]
  },
  {
   "cell_type": "markdown",
   "metadata": {},
   "source": [
    "### Loss Functions:\n",
    "The loss function we use for training in this homework is:\n",
    "$$E_\\lambda ( w^1, w^2, b^2, b^3)= \\frac{1}{D} \\sum_{d = 1}^{D} E^d_\\lambda(w^1, w^2, b^2, b^3)$$\n",
    "Where:\n",
    "$$E_\\lambda ( w^1 , w^2 , b^2 , b^3 )) = (y(x^d , w^1 , w^2 , b^2 , b^3 ) - t^d )^2 + \\lambda (|w^1 |^2 + |w^2 |^2 +|b^2 |^2 + |b^2 |^2 )$$\n",
    "and $\\lambda$ is a hyperparameter."
   ]
  },
  {
   "cell_type": "code",
   "execution_count": 3,
   "metadata": {},
   "outputs": [],
   "source": [
    "def loss_fun(y, y_pred, W1, W2, b2, b3 ,L = .05):\n",
    "    loss = (y_pred - y)**2  + L * (LA.norm(W1)**2 + LA.norm(W2)**2 + LA.norm(b2)**2+ b3**2)\n",
    "    return loss"
   ]
  },
  {
   "cell_type": "markdown",
   "metadata": {},
   "source": [
    "### Gradient Descent:\n",
    "The general formula for updating the weights and bias is via gradient descent, where the steps are indexed by τ = 1, . . . , T, where T is the stopping criteria, another hyperparameter to be estimated.\n",
    "- $w^{1,2}(t + 1)= w^{1,2}(t) - \\eta \\sum^{D}_{d=1} \\frac{\\partial E}{\\partial w^{1,2} (t)}$\n",
    "- $b^{2\\,3} (t + 1) = b^{2\\,3} (t) - \\eta \\sum^D_{d=1} \\frac{\\partial{E}}{\\partial b^{2\\,3} (t)}$\n",
    "\n",
    "where $\\eta$, the speed of descent/learning is a hyper-parameter to be estimated"
   ]
  },
  {
   "cell_type": "markdown",
   "metadata": {},
   "source": [
    "#### Computing these gradients:\n",
    "In order to compute these formulae more precisely, we will need the derivative of the Relu(t) function, which can be readily derived\n",
    "\n",
    "$\\frac{\\partial Rule(t)}{\\partial t}$ = (1 if t ≥ 0) and (0 if t < 0)\n",
    "\n",
    "##### ● Top Layer :\n",
    "$\\frac{\\partial E}{\\partial w^2} = 2 \\lambda w^2 + [ 2(y - t^d )h $ (if y > 0 else 0)] where h is the output of the hidden layer.\n",
    "\n",
    "$\\frac{\\partial E}{\\partial b^3} = 2 \\lambda b^3 + [ 2(y - t^d )$ (if y > 0 else 0)]\n",
    "\n",
    "##### ● Bottom Layer:\n",
    "$\\frac{\\partial E}{\\partial w^1} = 2 \\lambda w^1 + [ 2(y - t^d )w^2 x^d $(if y > 0 else 0)]\n",
    "\n",
    "$\\frac{\\partial E}{\\partial b^2}= 2 \\lambda b^2 + [ 2(y - t^d )w^2 $(if y > 0 else 0)]"
   ]
  },
  {
   "cell_type": "code",
   "execution_count": 4,
   "metadata": {},
   "outputs": [],
   "source": [
    "def derivatives(x, y, y_pred, h, W1, W2, b2, b3, L = 0.5):\n",
    "  \n",
    "    flag = 1 if y > 0 else 0\n",
    "    de_W2 = 2 * L * W2 + (2 *(y_pred - y)) * h.T * flag\n",
    "    de_b3 = 2 * L * b3  + (2 * (y_pred - y)) * flag \n",
    "    de_W1 = 2 * L * W1 + (2 *(y_pred - y)) * (W2.T @ x) * flag\n",
    "    de_b2 = 2 * L * b2  + (2 * (y_pred - y))* W2.T * flag \n",
    "    \n",
    "    return de_W2, de_b3, de_W1, de_b2\n",
    "            \n",
    "# %debug\n",
    "def gradient_descent(X, Y, Y_pred, H, W1, W2, b2, b3, L = 0.5, eta = 0.1):\n",
    "    DW2 = np.zeros(W2.shape)\n",
    "    Db3 = 0\n",
    "    DW1 = np.zeros(W1.shape)\n",
    "    Db2 = np.zeros(b2.shape)\n",
    "    D = X.shape[0]\n",
    "    \n",
    "    for i in range(D): \n",
    "        x, y, y_pred, h = X[i], Y[i], Y_pred[i], H[i]\n",
    "        x = x[None, :]\n",
    "        de_W2, de_b3, de_W1, de_b2= derivatives(x, y, y_pred, h, W1, W2, b2, b3, L )\n",
    "        DW2 = DW2 + de_W2\n",
    "        Db3 = Db3 + de_b3\n",
    "        DW1 = DW1 + de_W1\n",
    "        Db2 = Db2 + de_b2 \n",
    "        \n",
    "    W2 = W2 - eta * DW2\n",
    "    b3 = b3 - eta * Db3\n",
    "    W1 = W1 - eta * DW1\n",
    "    b2 = b2 - eta * Db2\n",
    "    return W2, b3, W1, b2"
   ]
  },
  {
   "cell_type": "markdown",
   "metadata": {},
   "source": [
    "### Training Algoritm:\n",
    "- Let N=2, λ=0.5, η=0.1 \n",
    "\n",
    "- The back propagation algorithm works by first (at step τ = 0) initializing all the weights and bias at small random values (with zero mean). Then we loop for τ = 1, . . . T and each step we loop for the training data d = 1, . . . , D and for each training pair $(x^d , t^d )$  compute the gradient for each of the parameters (weights and bias).\n",
    "\n",
    "- Plot a graph of the average loss $E_\\lambda (w^1 , w^2 , b^2 )$ versus t.\n",
    "- These plots will help you choose the hyper-parameter T, the stoppage step where the loss does not decrease.\n",
    "- Report the final T and loss."
   ]
  },
  {
   "cell_type": "code",
   "execution_count": 5,
   "metadata": {},
   "outputs": [],
   "source": [
    "def initialize_weights(N1 , N2, N3): \n",
    "    W1 = np.random.randn(N2, N1)\n",
    "    W2 = np.random.randn(N3, N2)\n",
    "    b2 = np.random.randn(N2, 1)\n",
    "    b3 = np.random.randn()\n",
    "    \n",
    "    return W2, b3, W1, b2"
   ]
  },
  {
   "cell_type": "code",
   "execution_count": 6,
   "metadata": {},
   "outputs": [],
   "source": [
    "def plot(x,y):\n",
    "    plt.figure(figsize=(15,5))\n",
    "    plt.plot(x, y)\n",
    "    plt.suptitle('Loss Vs T')\n",
    "    plt.xlabel('T')\n",
    "    plt.ylabel('Loss')\n",
    "    plt.grid(True)\n",
    "    plt.show()\n",
    "\n",
    "    \n",
    "def train(X , Y, N = 2 ,L = 0.5, eta = 0.1):\n",
    "    W2, b3, W1, b2 = initialize_weights(X.shape[1], N, 1)\n",
    "    T = 0\n",
    "    D = X.shape[0]\n",
    "    prev_loss = 80000\n",
    "    cur_loss  = 80000 -1\n",
    "    H = np.zeros((D, N, 1))\n",
    "    Y_pred = np.zeros(Y.shape)\n",
    "    losses = []\n",
    "    while(prev_loss - cur_loss > 1e-5 ):\n",
    "        prev_loss = cur_loss\n",
    "        cur_loss = 0\n",
    "        \n",
    "        for i  in range(D):\n",
    "            x =X[i]\n",
    "            x = x[None, :]\n",
    "            h, y_pred = forward_pass(x, W1, W2, b2,b3)\n",
    "            cur_loss = cur_loss + loss_fun(Y[i], y_pred, W1, W2, b2, b3 ,L).sum()\n",
    "            H[i] = h\n",
    "            Y_pred[i]= y_pred\n",
    "        \n",
    "        cur_loss/= D\n",
    "        losses.append(cur_loss)\n",
    "        W2, b3, W1, b2 = gradient_descent(X, Y, Y_pred, H, W1, W2, b2, b3, L , eta)\n",
    "        H = np.zeros((D, N, 1))\n",
    "        Y_pred = np.zeros(Y.shape)\n",
    "        T+=1\n",
    "        \n",
    "    print(\"The best loss reached is {} after T = {} iterations\".format(cur_loss, T))\n",
    "    x_axis = np.arange(1, T+1, 1)\n",
    "    plot(x_axis, losses)"
   ]
  },
  {
   "cell_type": "code",
   "execution_count": 216,
   "metadata": {},
   "outputs": [
    {
     "name": "stdout",
     "output_type": "stream",
     "text": [
      "The best loss reached is 0.3750178600252259 after T = 16 iterations\n"
     ]
    },
    {
     "data": {
      "image/png": "[encoded data removed]",
      "text/plain": [
       "<Figure size 1080x360 with 1 Axes>"
      ]
     },
     "metadata": {
      "needs_background": "light"
     },
     "output_type": "display_data"
    }
   ],
   "source": [
    "#𝑥1=(1,0),𝑥2=(1,1),𝑥3=(0,1),𝑥4=(0,0).\n",
    "\n",
    "X = np.array([[1,0],\n",
    "              [1,1],\n",
    "              [0,1],\n",
    "              [0,0]])\n",
    "Y = np.array([[1],\n",
    "              [0],\n",
    "              [1],\n",
    "              [0]])\n",
    "\n",
    "train(X , Y, 2, .50,.1)"
   ]
  }
 ],
 "metadata": {
  "kernelspec": {
   "display_name": "Python [conda env:root] *",
   "language": "python",
   "name": "conda-root-py"
  },
  "language_info": {
   "codemirror_mode": {
    "name": "ipython",
    "version": 3
   },
   "file_extension": ".py",
   "mimetype": "text/x-python",
   "name": "python",
   "nbconvert_exporter": "python",
   "pygments_lexer": "ipython3",
   "version": "3.7.6"
  }
 },
 "nbformat": 4,
 "nbformat_minor": 4
}
